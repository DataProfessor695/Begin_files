{
 "cells": [
  {
   "cell_type": "markdown",
   "id": "760181cf",
   "metadata": {},
   "source": [
    "## - Basic Data Structure in Python \n",
    "\n",
    "**1- Tuple**\n",
    "\n",
    "**2- List**\n",
    "\n",
    "**3- Dictionaries**\n",
    "\n",
    "**4- Set**"
   ]
  },
  {
   "cell_type": "markdown",
   "id": "73c61f50",
   "metadata": {},
   "source": [
    "## 1- Tuple \n",
    "- ordered Collection of elements \n",
    "- enclosed in () round braces/Pranthesis\n",
    "- Different kind of elements can be stored\n",
    "- Once element are stored you can not change them (unmutatable)"
   ]
  },
  {
   "cell_type": "code",
   "execution_count": 1,
   "id": "104514fd",
   "metadata": {},
   "outputs": [
    {
     "data": {
      "text/plain": [
       "(1, 'python', True, 2.5)"
      ]
     },
     "execution_count": 1,
     "metadata": {},
     "output_type": "execute_result"
    }
   ],
   "source": [
    "tup1 = (1, \"python\" ,True , 2.5)\n",
    "tup1"
   ]
  },
  {
   "cell_type": "code",
   "execution_count": 2,
   "id": "a8bffc85",
   "metadata": {},
   "outputs": [
    {
     "data": {
      "text/plain": [
       "tuple"
      ]
     },
     "execution_count": 2,
     "metadata": {},
     "output_type": "execute_result"
    }
   ],
   "source": [
    "# Type of a Tuple\n",
    "type(tup1)"
   ]
  },
  {
   "cell_type": "markdown",
   "id": "f7a10728",
   "metadata": {},
   "source": [
    "###  - Indexing in tuple"
   ]
  },
  {
   "cell_type": "code",
   "execution_count": 3,
   "id": "7ff59866",
   "metadata": {},
   "outputs": [
    {
     "data": {
      "text/plain": [
       "'python'"
      ]
     },
     "execution_count": 3,
     "metadata": {},
     "output_type": "execute_result"
    }
   ],
   "source": [
    "tup1[1]"
   ]
  },
  {
   "cell_type": "code",
   "execution_count": 4,
   "id": "61a1f4d0",
   "metadata": {},
   "outputs": [
    {
     "data": {
      "text/plain": [
       "1"
      ]
     },
     "execution_count": 4,
     "metadata": {},
     "output_type": "execute_result"
    }
   ],
   "source": [
    "tup1[0]"
   ]
  },
  {
   "cell_type": "code",
   "execution_count": 5,
   "id": "7e297baa",
   "metadata": {},
   "outputs": [
    {
     "data": {
      "text/plain": [
       "2.5"
      ]
     },
     "execution_count": 5,
     "metadata": {},
     "output_type": "execute_result"
    }
   ],
   "source": [
    "tup1[3]"
   ]
  },
  {
   "cell_type": "code",
   "execution_count": 6,
   "id": "76922561",
   "metadata": {},
   "outputs": [
    {
     "data": {
      "text/plain": [
       "True"
      ]
     },
     "execution_count": 6,
     "metadata": {},
     "output_type": "execute_result"
    }
   ],
   "source": [
    "tup1[2]"
   ]
  },
  {
   "cell_type": "code",
   "execution_count": 7,
   "id": "32c10fba",
   "metadata": {},
   "outputs": [
    {
     "data": {
      "text/plain": [
       "(1, 'python', True, 2.5)"
      ]
     },
     "execution_count": 7,
     "metadata": {},
     "output_type": "execute_result"
    }
   ],
   "source": [
    "tup1[0:5]"
   ]
  },
  {
   "cell_type": "code",
   "execution_count": 8,
   "id": "d91af4af",
   "metadata": {},
   "outputs": [
    {
     "data": {
      "text/plain": [
       "(1, 'python', True, 2.5)"
      ]
     },
     "execution_count": 8,
     "metadata": {},
     "output_type": "execute_result"
    }
   ],
   "source": [
    "tup1[0:4]"
   ]
  },
  {
   "cell_type": "code",
   "execution_count": 9,
   "id": "af9b66bc",
   "metadata": {},
   "outputs": [
    {
     "data": {
      "text/plain": [
       "(1, 'python', True)"
      ]
     },
     "execution_count": 9,
     "metadata": {},
     "output_type": "execute_result"
    }
   ],
   "source": [
    "# Last element is exclusive\n",
    "tup1[0:3]"
   ]
  },
  {
   "cell_type": "code",
   "execution_count": 10,
   "id": "3964a84e",
   "metadata": {},
   "outputs": [
    {
     "data": {
      "text/plain": [
       "4"
      ]
     },
     "execution_count": 10,
     "metadata": {},
     "output_type": "execute_result"
    }
   ],
   "source": [
    "# Count of elements in tuple\n",
    "len(tup1)"
   ]
  },
  {
   "cell_type": "code",
   "execution_count": 11,
   "id": "a12a3667",
   "metadata": {},
   "outputs": [
    {
     "data": {
      "text/plain": [
       "(2, 'Mudasar', 3.5, False)"
      ]
     },
     "execution_count": 11,
     "metadata": {},
     "output_type": "execute_result"
    }
   ],
   "source": [
    "tup2=(2,\"Mudasar\",3.5, False)\n",
    "tup2"
   ]
  },
  {
   "cell_type": "code",
   "execution_count": 12,
   "id": "7e475ba4",
   "metadata": {},
   "outputs": [
    {
     "data": {
      "text/plain": [
       "(1, 'python', True, 2.5, 2, 'Mudasar', 3.5, False)"
      ]
     },
     "execution_count": 12,
     "metadata": {},
     "output_type": "execute_result"
    }
   ],
   "source": [
    "# Concatinated\n",
    "tup1+tup2"
   ]
  },
  {
   "cell_type": "code",
   "execution_count": 13,
   "id": "501e32f7",
   "metadata": {},
   "outputs": [
    {
     "data": {
      "text/plain": [
       "(1, 'python', True, 2.5, 1, 'python', True, 2.5, 2, 'Mudasar', 3.5, False)"
      ]
     },
     "execution_count": 13,
     "metadata": {},
     "output_type": "execute_result"
    }
   ],
   "source": [
    "# Concatinate + Repeat\n",
    "tup1*2 + tup2"
   ]
  },
  {
   "cell_type": "code",
   "execution_count": 14,
   "id": "4b8584bd",
   "metadata": {},
   "outputs": [
    {
     "data": {
      "text/plain": [
       "(1,\n",
       " 'python',\n",
       " True,\n",
       " 2.5,\n",
       " 1,\n",
       " 'python',\n",
       " True,\n",
       " 2.5,\n",
       " 1,\n",
       " 'python',\n",
       " True,\n",
       " 2.5,\n",
       " 2,\n",
       " 'Mudasar',\n",
       " 3.5,\n",
       " False)"
      ]
     },
     "execution_count": 14,
     "metadata": {},
     "output_type": "execute_result"
    }
   ],
   "source": [
    "tup1*3 + tup2"
   ]
  },
  {
   "cell_type": "code",
   "execution_count": 15,
   "id": "64614096",
   "metadata": {},
   "outputs": [
    {
     "data": {
      "text/plain": [
       "(20, 34, 55, 67, 37, 57)"
      ]
     },
     "execution_count": 15,
     "metadata": {},
     "output_type": "execute_result"
    }
   ],
   "source": [
    "tup3=(20,34,55,67,37,57)\n",
    "tup3"
   ]
  },
  {
   "cell_type": "code",
   "execution_count": 16,
   "id": "8df69676",
   "metadata": {},
   "outputs": [
    {
     "data": {
      "text/plain": [
       "20"
      ]
     },
     "execution_count": 16,
     "metadata": {},
     "output_type": "execute_result"
    }
   ],
   "source": [
    "# minimum\n",
    "min(tup3)"
   ]
  },
  {
   "cell_type": "code",
   "execution_count": 17,
   "id": "762d2211",
   "metadata": {},
   "outputs": [
    {
     "data": {
      "text/plain": [
       "67"
      ]
     },
     "execution_count": 17,
     "metadata": {},
     "output_type": "execute_result"
    }
   ],
   "source": [
    "# maximum\n",
    "max(tup3)"
   ]
  },
  {
   "cell_type": "code",
   "execution_count": 18,
   "id": "f9786ee5",
   "metadata": {},
   "outputs": [
    {
     "data": {
      "text/plain": [
       "(20, 34, 55, 67, 37, 57, 20, 34, 55, 67, 37, 57)"
      ]
     },
     "execution_count": 18,
     "metadata": {},
     "output_type": "execute_result"
    }
   ],
   "source": [
    "tup3*2"
   ]
  },
  {
   "cell_type": "markdown",
   "id": "39b98d28",
   "metadata": {},
   "source": [
    "---"
   ]
  },
  {
   "cell_type": "markdown",
   "id": "20a342ba",
   "metadata": {},
   "source": [
    "## 2- List\n",
    "\n",
    "- Ordered Collection of elements \n",
    "- enclosed in [] Saqure braces/brackets\n",
    "- Mutateable you can change the values"
   ]
  },
  {
   "cell_type": "code",
   "execution_count": 19,
   "id": "bb8bad29",
   "metadata": {},
   "outputs": [
    {
     "data": {
      "text/plain": [
       "[2, 'Mudasar', 3.6, False]"
      ]
     },
     "execution_count": 19,
     "metadata": {},
     "output_type": "execute_result"
    }
   ],
   "source": [
    "list1 = [2, \"Mudasar\", 3.6, False]\n",
    "list1"
   ]
  },
  {
   "cell_type": "code",
   "execution_count": 20,
   "id": "d67b791e",
   "metadata": {},
   "outputs": [
    {
     "data": {
      "text/plain": [
       "list"
      ]
     },
     "execution_count": 20,
     "metadata": {},
     "output_type": "execute_result"
    }
   ],
   "source": [
    "type(list1)"
   ]
  },
  {
   "cell_type": "code",
   "execution_count": 21,
   "id": "ab43adec",
   "metadata": {},
   "outputs": [
    {
     "data": {
      "text/plain": [
       "4"
      ]
     },
     "execution_count": 21,
     "metadata": {},
     "output_type": "execute_result"
    }
   ],
   "source": [
    "len(list1)"
   ]
  },
  {
   "cell_type": "code",
   "execution_count": 22,
   "id": "f93a4566",
   "metadata": {},
   "outputs": [
    {
     "data": {
      "text/plain": [
       "False"
      ]
     },
     "execution_count": 22,
     "metadata": {},
     "output_type": "execute_result"
    }
   ],
   "source": [
    "list1[3]"
   ]
  },
  {
   "cell_type": "code",
   "execution_count": 23,
   "id": "0190cc07",
   "metadata": {},
   "outputs": [
    {
     "data": {
      "text/plain": [
       "[5, 6, 'Samosa', 'Absolute', 646, 46.5, False]"
      ]
     },
     "execution_count": 23,
     "metadata": {},
     "output_type": "execute_result"
    }
   ],
   "source": [
    "list2 = [5, 6, \"Samosa\", \"Absolute\", 646, 46.5,False]\n",
    "list2"
   ]
  },
  {
   "cell_type": "code",
   "execution_count": 24,
   "id": "564e1350",
   "metadata": {},
   "outputs": [
    {
     "data": {
      "text/plain": [
       "[2, 'Mudasar', 3.6, False, 5, 6, 'Samosa', 'Absolute', 646, 46.5, False]"
      ]
     },
     "execution_count": 24,
     "metadata": {},
     "output_type": "execute_result"
    }
   ],
   "source": [
    "list1 + list2"
   ]
  },
  {
   "cell_type": "code",
   "execution_count": 25,
   "id": "50acbe18",
   "metadata": {},
   "outputs": [
    {
     "data": {
      "text/plain": [
       "[False, 3.6, 'Mudasar', 2]"
      ]
     },
     "execution_count": 25,
     "metadata": {},
     "output_type": "execute_result"
    }
   ],
   "source": [
    "list1.reverse()\n",
    "list1"
   ]
  },
  {
   "cell_type": "code",
   "execution_count": 26,
   "id": "e4d048e4",
   "metadata": {},
   "outputs": [
    {
     "data": {
      "text/plain": [
       "[False, 3.6, 'Mudasar', 2, \"Nun to you that's Great\"]"
      ]
     },
     "execution_count": 26,
     "metadata": {},
     "output_type": "execute_result"
    }
   ],
   "source": [
    "list1.append(\"Nun to you that's Great\")\n",
    "list1"
   ]
  },
  {
   "cell_type": "code",
   "execution_count": 27,
   "id": "787eb305",
   "metadata": {},
   "outputs": [
    {
     "data": {
      "text/plain": [
       "[False, 3.6, 'Mudasar', 2, \"Nun to you that's Great\"]"
      ]
     },
     "execution_count": 27,
     "metadata": {},
     "output_type": "execute_result"
    }
   ],
   "source": [
    "list1.count(\"Mudasar\")\n",
    "list1"
   ]
  },
  {
   "cell_type": "code",
   "execution_count": 28,
   "id": "2489ebb2",
   "metadata": {},
   "outputs": [
    {
     "data": {
      "text/plain": [
       "1"
      ]
     },
     "execution_count": 28,
     "metadata": {},
     "output_type": "execute_result"
    }
   ],
   "source": [
    "# List Count Function\n",
    "list1.count(2)\n"
   ]
  },
  {
   "cell_type": "code",
   "execution_count": 29,
   "id": "b2f1eefc",
   "metadata": {},
   "outputs": [
    {
     "data": {
      "text/plain": [
       "[False, 3.6, 'Mudasar', 2, \"Nun to you that's Great\"]"
      ]
     },
     "execution_count": 29,
     "metadata": {},
     "output_type": "execute_result"
    }
   ],
   "source": [
    "list1"
   ]
  },
  {
   "cell_type": "code",
   "execution_count": 30,
   "id": "26f4fb3a",
   "metadata": {},
   "outputs": [
    {
     "data": {
      "text/plain": [
       "[False, 3.6, 'Mudasar', 2, \"Nun to you that's Great\", \"It's Second Addition\"]"
      ]
     },
     "execution_count": 30,
     "metadata": {},
     "output_type": "execute_result"
    }
   ],
   "source": [
    "list1.append(\"It's Second Addition\")\n",
    "list1"
   ]
  },
  {
   "cell_type": "code",
   "execution_count": 31,
   "id": "96489057",
   "metadata": {},
   "outputs": [
    {
     "data": {
      "text/plain": [
       "[False, 3.6, 'Mudasar', 2, \"Nun to you that's Great\", \"It's Second Addition\"]"
      ]
     },
     "execution_count": 31,
     "metadata": {},
     "output_type": "execute_result"
    }
   ],
   "source": [
    "list1"
   ]
  },
  {
   "cell_type": "code",
   "execution_count": 32,
   "id": "5b4531ed",
   "metadata": {},
   "outputs": [
    {
     "data": {
      "text/plain": [
       "[False, 3.6, 'Mudasar', 2, \"Nun to you that's Great\", \"It's Second Addition\"]"
      ]
     },
     "execution_count": 32,
     "metadata": {},
     "output_type": "execute_result"
    }
   ],
   "source": [
    "list1"
   ]
  },
  {
   "cell_type": "code",
   "execution_count": 33,
   "id": "dd98b510",
   "metadata": {},
   "outputs": [
    {
     "data": {
      "text/plain": [
       "[False, 3.6, 'Mudasar', 2, \"Nun to you that's Great\", \"It's Second Addition\"]"
      ]
     },
     "execution_count": 33,
     "metadata": {},
     "output_type": "execute_result"
    }
   ],
   "source": [
    "list1.count(0)\n",
    "list1"
   ]
  },
  {
   "cell_type": "code",
   "execution_count": 34,
   "id": "436f8674",
   "metadata": {},
   "outputs": [
    {
     "data": {
      "text/plain": [
       "1"
      ]
     },
     "execution_count": 34,
     "metadata": {},
     "output_type": "execute_result"
    }
   ],
   "source": [
    "list1.count(0)"
   ]
  },
  {
   "cell_type": "code",
   "execution_count": 35,
   "id": "fdba0f8b",
   "metadata": {},
   "outputs": [
    {
     "data": {
      "text/plain": [
       "[\"It's Second Addition\", \"Nun to you that's Great\", 2, 'Mudasar', 3.6, False]"
      ]
     },
     "execution_count": 35,
     "metadata": {},
     "output_type": "execute_result"
    }
   ],
   "source": [
    "list1.reverse()\n",
    "list1"
   ]
  },
  {
   "cell_type": "code",
   "execution_count": 36,
   "id": "53a94e7f",
   "metadata": {},
   "outputs": [
    {
     "data": {
      "text/plain": [
       "0"
      ]
     },
     "execution_count": 36,
     "metadata": {},
     "output_type": "execute_result"
    }
   ],
   "source": [
    "list1.count(4)"
   ]
  },
  {
   "cell_type": "code",
   "execution_count": 37,
   "id": "7d07c6fe",
   "metadata": {},
   "outputs": [
    {
     "data": {
      "text/plain": [
       "6"
      ]
     },
     "execution_count": 37,
     "metadata": {},
     "output_type": "execute_result"
    }
   ],
   "source": [
    "len(list1)"
   ]
  },
  {
   "cell_type": "code",
   "execution_count": 38,
   "id": "299458ab",
   "metadata": {},
   "outputs": [
    {
     "data": {
      "text/plain": [
       "[\"It's Second Addition\", \"Nun to you that's Great\", 2, 'Mudasar', 3.6, False]"
      ]
     },
     "execution_count": 38,
     "metadata": {},
     "output_type": "execute_result"
    }
   ],
   "source": [
    "list1.count(2)\n",
    "list1"
   ]
  },
  {
   "cell_type": "code",
   "execution_count": 39,
   "id": "f645d5b1",
   "metadata": {},
   "outputs": [
    {
     "data": {
      "text/plain": [
       "1"
      ]
     },
     "execution_count": 39,
     "metadata": {},
     "output_type": "execute_result"
    }
   ],
   "source": [
    "list1.count(2)"
   ]
  },
  {
   "cell_type": "code",
   "execution_count": 40,
   "id": "178f7a73",
   "metadata": {},
   "outputs": [
    {
     "name": "stdout",
     "output_type": "stream",
     "text": [
      "The Count of Colour is : yellow is 2\n"
     ]
    }
   ],
   "source": [
    "list3=['red','green','yellow','pink',\"purple\",'yellow']\n",
    "color_count=list3.count(\"yellow\")\n",
    "print('The Count of Colour is : yellow is', color_count)\n"
   ]
  },
  {
   "cell_type": "code",
   "execution_count": 41,
   "id": "086ba79d",
   "metadata": {},
   "outputs": [
    {
     "data": {
      "text/plain": [
       "[32, 35, 65, 75, 78, 96, 45, 32, 65, 75, 47, 868, 557]"
      ]
     },
     "execution_count": 41,
     "metadata": {},
     "output_type": "execute_result"
    }
   ],
   "source": [
    "list4=[32,35,65,75,78,96,45,32,65,75,47,868,557]\n",
    "list4"
   ]
  },
  {
   "cell_type": "code",
   "execution_count": 42,
   "id": "60b30e77",
   "metadata": {},
   "outputs": [
    {
     "data": {
      "text/plain": [
       "13"
      ]
     },
     "execution_count": 42,
     "metadata": {},
     "output_type": "execute_result"
    }
   ],
   "source": [
    "len(list4)"
   ]
  },
  {
   "cell_type": "code",
   "execution_count": 43,
   "id": "735b869c",
   "metadata": {},
   "outputs": [
    {
     "data": {
      "text/plain": [
       "[32, 32, 35, 45, 47, 65, 65, 75, 75, 78, 96, 557, 868]"
      ]
     },
     "execution_count": 43,
     "metadata": {},
     "output_type": "execute_result"
    }
   ],
   "source": [
    "list4.sort()\n",
    "list4"
   ]
  },
  {
   "cell_type": "code",
   "execution_count": 44,
   "id": "a04615fc",
   "metadata": {},
   "outputs": [
    {
     "data": {
      "text/plain": [
       "2"
      ]
     },
     "execution_count": 44,
     "metadata": {},
     "output_type": "execute_result"
    }
   ],
   "source": [
    "list4.count(32)"
   ]
  },
  {
   "cell_type": "markdown",
   "id": "752d5a03",
   "metadata": {},
   "source": [
    "---"
   ]
  },
  {
   "cell_type": "markdown",
   "id": "1e074937",
   "metadata": {},
   "source": [
    "## - Dictionaries\n",
    "- An unordered Collection of elements\n",
    "- Key and Value\n",
    "- Curly braces or brackets {}\n",
    "- Mutateable/Change the values"
   ]
  },
  {
   "cell_type": "code",
   "execution_count": 45,
   "id": "8e32a021",
   "metadata": {},
   "outputs": [
    {
     "data": {
      "text/plain": [
       "{'Mangoes': 150, 'Bananas': 100, 'Burger': 90, 'Dahi bally': 50}"
      ]
     },
     "execution_count": 45,
     "metadata": {},
     "output_type": "execute_result"
    }
   ],
   "source": [
    "# Food and their Prices\n",
    "food1= {\"Mangoes\":150, \"Bananas\":100, \"Burger\":90,\"Dahi bally\":50}\n",
    "food1"
   ]
  },
  {
   "cell_type": "code",
   "execution_count": 46,
   "id": "eac081fe",
   "metadata": {},
   "outputs": [
    {
     "data": {
      "text/plain": [
       "dict"
      ]
     },
     "execution_count": 46,
     "metadata": {},
     "output_type": "execute_result"
    }
   ],
   "source": [
    "type(food1)"
   ]
  },
  {
   "cell_type": "code",
   "execution_count": 47,
   "id": "76ea2e8b",
   "metadata": {},
   "outputs": [
    {
     "data": {
      "text/plain": [
       "dict_keys(['Mangoes', 'Bananas', 'Burger', 'Dahi bally'])"
      ]
     },
     "execution_count": 47,
     "metadata": {},
     "output_type": "execute_result"
    }
   ],
   "source": [
    "# Extract data\n",
    "keys1=food1.keys()\n",
    "keys1"
   ]
  },
  {
   "cell_type": "code",
   "execution_count": 48,
   "id": "07a9a181",
   "metadata": {},
   "outputs": [
    {
     "data": {
      "text/plain": [
       "dict_values([150, 100, 90, 50])"
      ]
     },
     "execution_count": 48,
     "metadata": {},
     "output_type": "execute_result"
    }
   ],
   "source": [
    "values1=food1.values()\n",
    "values1"
   ]
  },
  {
   "cell_type": "code",
   "execution_count": 49,
   "id": "2207fad1",
   "metadata": {},
   "outputs": [
    {
     "data": {
      "text/plain": [
       "{'Mangoes': 150, 'Bananas': 100, 'Burger': 90, 'Dahi bally': 50, 'Tikki': 30}"
      ]
     },
     "execution_count": 49,
     "metadata": {},
     "output_type": "execute_result"
    }
   ],
   "source": [
    "food1[\"Tikki\"]=30\n",
    "food1\n"
   ]
  },
  {
   "cell_type": "code",
   "execution_count": 50,
   "id": "552d64a4",
   "metadata": {},
   "outputs": [
    {
     "data": {
      "text/plain": [
       "{'Mangoes': 150, 'Bananas': 100, 'Burger': 90, 'Dahi bally': 50, 'Tikki': 25}"
      ]
     },
     "execution_count": 50,
     "metadata": {},
     "output_type": "execute_result"
    }
   ],
   "source": [
    "# update the values\n",
    "food1[\"Tikki\"]=25\n",
    "food1"
   ]
  },
  {
   "cell_type": "code",
   "execution_count": 51,
   "id": "746d2a9b",
   "metadata": {},
   "outputs": [
    {
     "data": {
      "text/plain": [
       "{'Dates': 45, 'Chocolates': 35, 'Bottels': 300}"
      ]
     },
     "execution_count": 51,
     "metadata": {},
     "output_type": "execute_result"
    }
   ],
   "source": [
    "food2={\"Dates\":45,\"Chocolates\":35,\"Bottels\":300}\n",
    "food2"
   ]
  },
  {
   "cell_type": "code",
   "execution_count": 52,
   "id": "335cad87",
   "metadata": {},
   "outputs": [
    {
     "data": {
      "text/plain": [
       "{'Mangoes': 150,\n",
       " 'Bananas': 100,\n",
       " 'Burger': 90,\n",
       " 'Dahi bally': 50,\n",
       " 'Tikki': 25,\n",
       " 'Dates': 45,\n",
       " 'Chocolates': 35,\n",
       " 'Bottels': 300}"
      ]
     },
     "execution_count": 52,
     "metadata": {},
     "output_type": "execute_result"
    }
   ],
   "source": [
    "# Concatinate the Dictionary\n",
    "food1.update(food2)\n",
    "food1"
   ]
  },
  {
   "cell_type": "markdown",
   "id": "2b130432",
   "metadata": {},
   "source": [
    "## 4- Set\n",
    "- Unordered and Unindexed\n",
    "- Curly Braces are Used\n",
    "- No Duplication Allowed"
   ]
  },
  {
   "cell_type": "code",
   "execution_count": 53,
   "id": "0646e2af",
   "metadata": {},
   "outputs": [
    {
     "data": {
      "text/plain": [
       "{2,\n",
       " 4.5,\n",
       " 4.6,\n",
       " 'Mudasar',\n",
       " True,\n",
       " 'lahore',\n",
       " 'learning in Codanics with baba Aammar'}"
      ]
     },
     "execution_count": 53,
     "metadata": {},
     "output_type": "execute_result"
    }
   ],
   "source": [
    "s1= {2,4.5,4.6,\"Mudasar\", \"learning in Codanics with baba Aammar\", \"lahore\", True}\n",
    "s1"
   ]
  },
  {
   "cell_type": "code",
   "execution_count": 54,
   "id": "4212f8b1",
   "metadata": {},
   "outputs": [
    {
     "data": {
      "text/plain": [
       "set"
      ]
     },
     "execution_count": 54,
     "metadata": {},
     "output_type": "execute_result"
    }
   ],
   "source": [
    "type(s1)"
   ]
  },
  {
   "cell_type": "code",
   "execution_count": 55,
   "id": "f765311f",
   "metadata": {},
   "outputs": [
    {
     "data": {
      "text/plain": [
       "{2,\n",
       " 4.5,\n",
       " 4.6,\n",
       " 'Mudasar',\n",
       " True,\n",
       " 'lahore',\n",
       " 'learning in Codanics with baba Aammar'}"
      ]
     },
     "execution_count": 55,
     "metadata": {},
     "output_type": "execute_result"
    }
   ],
   "source": [
    "s1.add(\"Mudasar\")\n",
    "s1"
   ]
  },
  {
   "cell_type": "code",
   "execution_count": 56,
   "id": "7e145834",
   "metadata": {},
   "outputs": [
    {
     "data": {
      "text/plain": [
       "{2,\n",
       " 4.5,\n",
       " 4.6,\n",
       " 'Lahore',\n",
       " 'Mudasar',\n",
       " True,\n",
       " 'lahore',\n",
       " 'learning in Codanics with baba Aammar'}"
      ]
     },
     "execution_count": 56,
     "metadata": {},
     "output_type": "execute_result"
    }
   ],
   "source": [
    "s1.add(\"Lahore\")\n",
    "s1"
   ]
  },
  {
   "cell_type": "code",
   "execution_count": 57,
   "id": "1002c6c0",
   "metadata": {},
   "outputs": [
    {
     "data": {
      "text/plain": [
       "{2,\n",
       " 4.5,\n",
       " 4.6,\n",
       " 'Lahore',\n",
       " 'Mudasar',\n",
       " True,\n",
       " 'learning in Codanics with baba Aammar'}"
      ]
     },
     "execution_count": 57,
     "metadata": {},
     "output_type": "execute_result"
    }
   ],
   "source": [
    "s1.remove(\"lahore\")\n",
    "s1"
   ]
  }
 ],
 "metadata": {
  "kernelspec": {
   "display_name": "Python 3 (ipykernel)",
   "language": "python",
   "name": "python3"
  },
  "language_info": {
   "codemirror_mode": {
    "name": "ipython",
    "version": 3
   },
   "file_extension": ".py",
   "mimetype": "text/x-python",
   "name": "python",
   "nbconvert_exporter": "python",
   "pygments_lexer": "ipython3",
   "version": "3.9.12"
  }
 },
 "nbformat": 4,
 "nbformat_minor": 5
}

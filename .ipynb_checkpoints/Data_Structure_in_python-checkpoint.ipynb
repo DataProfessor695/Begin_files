{
 "cells": [
  {
   "cell_type": "markdown",
   "id": "56162d7f",
   "metadata": {},
   "source": [
    "## - Basic Data Structure in Python \n",
    "\n",
    "**1- Tuple**\n",
    "\n",
    "**2- List**\n",
    "\n",
    "**3- Dictionaries**\n",
    "\n",
    "**4- Set**"
   ]
  },
  {
   "cell_type": "markdown",
   "id": "ee586bff",
   "metadata": {},
   "source": [
    "## 1- Tuple \n",
    "- ordered Collection of elements \n",
    "- enclosed in () round braces/Pranthesis\n",
    "- Different kind of elements can be stored\n",
    "- Once element are stored you can not change them (unmutatable)"
   ]
  },
  {
   "cell_type": "code",
   "execution_count": 1,
   "id": "49324f94",
   "metadata": {},
   "outputs": [
    {
     "data": {
      "text/plain": [
       "(1, 'python', True, 2.5)"
      ]
     },
     "execution_count": 1,
     "metadata": {},
     "output_type": "execute_result"
    }
   ],
   "source": [
    "tup1 = (1, \"python\" ,True , 2.5)\n",
    "tup1"
   ]
  },
  {
   "cell_type": "code",
   "execution_count": 2,
   "id": "3dccae29",
   "metadata": {},
   "outputs": [
    {
     "data": {
      "text/plain": [
       "tuple"
      ]
     },
     "execution_count": 2,
     "metadata": {},
     "output_type": "execute_result"
    }
   ],
   "source": [
    "# Type of a Tuple\n",
    "type(tup1)"
   ]
  },
  {
   "cell_type": "markdown",
   "id": "7bf154a1",
   "metadata": {},
   "source": [
    "###  - Indexing in tuple"
   ]
  },
  {
   "cell_type": "code",
   "execution_count": 3,
   "id": "8e75f9bb",
   "metadata": {},
   "outputs": [
    {
     "data": {
      "text/plain": [
       "'python'"
      ]
     },
     "execution_count": 3,
     "metadata": {},
     "output_type": "execute_result"
    }
   ],
   "source": [
    "tup1[1]"
   ]
  },
  {
   "cell_type": "code",
   "execution_count": 4,
   "id": "44fd35c3",
   "metadata": {},
   "outputs": [
    {
     "data": {
      "text/plain": [
       "1"
      ]
     },
     "execution_count": 4,
     "metadata": {},
     "output_type": "execute_result"
    }
   ],
   "source": [
    "tup1[0]"
   ]
  },
  {
   "cell_type": "code",
   "execution_count": 5,
   "id": "17878a54",
   "metadata": {},
   "outputs": [
    {
     "data": {
      "text/plain": [
       "2.5"
      ]
     },
     "execution_count": 5,
     "metadata": {},
     "output_type": "execute_result"
    }
   ],
   "source": [
    "tup1[3]"
   ]
  },
  {
   "cell_type": "code",
   "execution_count": 6,
   "id": "89794e20",
   "metadata": {},
   "outputs": [
    {
     "data": {
      "text/plain": [
       "True"
      ]
     },
     "execution_count": 6,
     "metadata": {},
     "output_type": "execute_result"
    }
   ],
   "source": [
    "tup1[2]"
   ]
  },
  {
   "cell_type": "code",
   "execution_count": 7,
   "id": "5b354845",
   "metadata": {},
   "outputs": [
    {
     "data": {
      "text/plain": [
       "(1, 'python', True, 2.5)"
      ]
     },
     "execution_count": 7,
     "metadata": {},
     "output_type": "execute_result"
    }
   ],
   "source": [
    "tup1[0:5]"
   ]
  },
  {
   "cell_type": "code",
   "execution_count": 8,
   "id": "08e5d2d4",
   "metadata": {},
   "outputs": [
    {
     "data": {
      "text/plain": [
       "(1, 'python', True, 2.5)"
      ]
     },
     "execution_count": 8,
     "metadata": {},
     "output_type": "execute_result"
    }
   ],
   "source": [
    "tup1[0:4]"
   ]
  },
  {
   "cell_type": "code",
   "execution_count": 9,
   "id": "f2e73338",
   "metadata": {},
   "outputs": [
    {
     "data": {
      "text/plain": [
       "(1, 'python', True)"
      ]
     },
     "execution_count": 9,
     "metadata": {},
     "output_type": "execute_result"
    }
   ],
   "source": [
    "# Last element is exclusive\n",
    "tup1[0:3]"
   ]
  },
  {
   "cell_type": "code",
   "execution_count": 10,
   "id": "3f92ed4c",
   "metadata": {},
   "outputs": [
    {
     "data": {
      "text/plain": [
       "4"
      ]
     },
     "execution_count": 10,
     "metadata": {},
     "output_type": "execute_result"
    }
   ],
   "source": [
    "# Count of elements in tuple\n",
    "len(tup1)"
   ]
  },
  {
   "cell_type": "code",
   "execution_count": 11,
   "id": "977745f7",
   "metadata": {},
   "outputs": [
    {
     "data": {
      "text/plain": [
       "(2, 'Mudasar', 3.5, False)"
      ]
     },
     "execution_count": 11,
     "metadata": {},
     "output_type": "execute_result"
    }
   ],
   "source": [
    "tup2=(2,\"Mudasar\",3.5, False)\n",
    "tup2"
   ]
  },
  {
   "cell_type": "code",
   "execution_count": 12,
   "id": "72039ded",
   "metadata": {},
   "outputs": [
    {
     "data": {
      "text/plain": [
       "(1, 'python', True, 2.5, 2, 'Mudasar', 3.5, False)"
      ]
     },
     "execution_count": 12,
     "metadata": {},
     "output_type": "execute_result"
    }
   ],
   "source": [
    "# Concatinated\n",
    "tup1+tup2"
   ]
  },
  {
   "cell_type": "code",
   "execution_count": 13,
   "id": "efea7d4e",
   "metadata": {},
   "outputs": [
    {
     "data": {
      "text/plain": [
       "(1, 'python', True, 2.5, 1, 'python', True, 2.5, 2, 'Mudasar', 3.5, False)"
      ]
     },
     "execution_count": 13,
     "metadata": {},
     "output_type": "execute_result"
    }
   ],
   "source": [
    "# Concatinate + Repeat\n",
    "tup1*2 + tup2"
   ]
  },
  {
   "cell_type": "code",
   "execution_count": 14,
   "id": "8660d15c",
   "metadata": {},
   "outputs": [
    {
     "data": {
      "text/plain": [
       "(1,\n",
       " 'python',\n",
       " True,\n",
       " 2.5,\n",
       " 1,\n",
       " 'python',\n",
       " True,\n",
       " 2.5,\n",
       " 1,\n",
       " 'python',\n",
       " True,\n",
       " 2.5,\n",
       " 2,\n",
       " 'Mudasar',\n",
       " 3.5,\n",
       " False)"
      ]
     },
     "execution_count": 14,
     "metadata": {},
     "output_type": "execute_result"
    }
   ],
   "source": [
    "tup1*3 + tup2"
   ]
  },
  {
   "cell_type": "code",
   "execution_count": 15,
   "id": "9eabffd9",
   "metadata": {},
   "outputs": [
    {
     "data": {
      "text/plain": [
       "(20, 34, 55, 67, 37, 57)"
      ]
     },
     "execution_count": 15,
     "metadata": {},
     "output_type": "execute_result"
    }
   ],
   "source": [
    "tup3=(20,34,55,67,37,57)\n",
    "tup3"
   ]
  },
  {
   "cell_type": "code",
   "execution_count": 16,
   "id": "ce8f32fc",
   "metadata": {},
   "outputs": [
    {
     "data": {
      "text/plain": [
       "20"
      ]
     },
     "execution_count": 16,
     "metadata": {},
     "output_type": "execute_result"
    }
   ],
   "source": [
    "# minimum\n",
    "min(tup3)"
   ]
  },
  {
   "cell_type": "code",
   "execution_count": 17,
   "id": "7c28af88",
   "metadata": {},
   "outputs": [
    {
     "data": {
      "text/plain": [
       "67"
      ]
     },
     "execution_count": 17,
     "metadata": {},
     "output_type": "execute_result"
    }
   ],
   "source": [
    "# maximum\n",
    "max(tup3)"
   ]
  },
  {
   "cell_type": "code",
   "execution_count": 18,
   "id": "7caafcd9",
   "metadata": {},
   "outputs": [
    {
     "data": {
      "text/plain": [
       "(20, 34, 55, 67, 37, 57, 20, 34, 55, 67, 37, 57)"
      ]
     },
     "execution_count": 18,
     "metadata": {},
     "output_type": "execute_result"
    }
   ],
   "source": [
    "tup3*2"
   ]
  },
  {
   "cell_type": "markdown",
   "id": "d426cc1d",
   "metadata": {},
   "source": [
    "---"
   ]
  },
  {
   "cell_type": "markdown",
   "id": "8f31fb31",
   "metadata": {},
   "source": [
    "## 2- List\n",
    "\n",
    "- Ordered Collection of elements \n",
    "- enclosed in [] Saqure braces/brackets\n",
    "- Mutateable you can change the values"
   ]
  },
  {
   "cell_type": "code",
   "execution_count": 19,
   "id": "e3ccd290",
   "metadata": {},
   "outputs": [
    {
     "data": {
      "text/plain": [
       "[2, 'Mudasar', 3.6, False]"
      ]
     },
     "execution_count": 19,
     "metadata": {},
     "output_type": "execute_result"
    }
   ],
   "source": [
    "list1 = [2, \"Mudasar\", 3.6, False]\n",
    "list1"
   ]
  },
  {
   "cell_type": "code",
   "execution_count": 20,
   "id": "ac1af2e8",
   "metadata": {},
   "outputs": [
    {
     "data": {
      "text/plain": [
       "list"
      ]
     },
     "execution_count": 20,
     "metadata": {},
     "output_type": "execute_result"
    }
   ],
   "source": [
    "type(list1)"
   ]
  },
  {
   "cell_type": "code",
   "execution_count": 21,
   "id": "91de6d66",
   "metadata": {},
   "outputs": [
    {
     "data": {
      "text/plain": [
       "4"
      ]
     },
     "execution_count": 21,
     "metadata": {},
     "output_type": "execute_result"
    }
   ],
   "source": [
    "len(list1)"
   ]
  },
  {
   "cell_type": "code",
   "execution_count": 22,
   "id": "ea3a80a6",
   "metadata": {},
   "outputs": [
    {
     "data": {
      "text/plain": [
       "False"
      ]
     },
     "execution_count": 22,
     "metadata": {},
     "output_type": "execute_result"
    }
   ],
   "source": [
    "list1[3]"
   ]
  },
  {
   "cell_type": "code",
   "execution_count": 23,
   "id": "97300472",
   "metadata": {},
   "outputs": [
    {
     "data": {
      "text/plain": [
       "[5, 6, 'Samosa', 'Absolute', 646, 46.5, False]"
      ]
     },
     "execution_count": 23,
     "metadata": {},
     "output_type": "execute_result"
    }
   ],
   "source": [
    "list2 = [5, 6, \"Samosa\", \"Absolute\", 646, 46.5,False]\n",
    "list2"
   ]
  },
  {
   "cell_type": "code",
   "execution_count": 24,
   "id": "e863f00b",
   "metadata": {},
   "outputs": [
    {
     "data": {
      "text/plain": [
       "[2, 'Mudasar', 3.6, False, 5, 6, 'Samosa', 'Absolute', 646, 46.5, False]"
      ]
     },
     "execution_count": 24,
     "metadata": {},
     "output_type": "execute_result"
    }
   ],
   "source": [
    "list1 + list2"
   ]
  },
  {
   "cell_type": "code",
   "execution_count": 25,
   "id": "82637d6c",
   "metadata": {},
   "outputs": [
    {
     "data": {
      "text/plain": [
       "[False, 3.6, 'Mudasar', 2]"
      ]
     },
     "execution_count": 25,
     "metadata": {},
     "output_type": "execute_result"
    }
   ],
   "source": [
    "list1.reverse()\n",
    "list1"
   ]
  },
  {
   "cell_type": "code",
   "execution_count": 26,
   "id": "7f8241a0",
   "metadata": {},
   "outputs": [
    {
     "data": {
      "text/plain": [
       "[False, 3.6, 'Mudasar', 2, \"Nun to you that's Great\"]"
      ]
     },
     "execution_count": 26,
     "metadata": {},
     "output_type": "execute_result"
    }
   ],
   "source": [
    "list1.append(\"Nun to you that's Great\")\n",
    "list1"
   ]
  },
  {
   "cell_type": "code",
   "execution_count": 27,
   "id": "4fc19252",
   "metadata": {},
   "outputs": [
    {
     "data": {
      "text/plain": [
       "[False, 3.6, 'Mudasar', 2, \"Nun to you that's Great\"]"
      ]
     },
     "execution_count": 27,
     "metadata": {},
     "output_type": "execute_result"
    }
   ],
   "source": [
    "list1.count(\"Mudasar\")\n",
    "list1"
   ]
  },
  {
   "cell_type": "code",
   "execution_count": 28,
   "id": "e0ec1d92",
   "metadata": {},
   "outputs": [
    {
     "data": {
      "text/plain": [
       "1"
      ]
     },
     "execution_count": 28,
     "metadata": {},
     "output_type": "execute_result"
    }
   ],
   "source": [
    "# List Count Function\n",
    "list1.count(2)\n"
   ]
  },
  {
   "cell_type": "code",
   "execution_count": 29,
   "id": "7814e18b",
   "metadata": {},
   "outputs": [
    {
     "data": {
      "text/plain": [
       "[False, 3.6, 'Mudasar', 2, \"Nun to you that's Great\"]"
      ]
     },
     "execution_count": 29,
     "metadata": {},
     "output_type": "execute_result"
    }
   ],
   "source": [
    "list1"
   ]
  },
  {
   "cell_type": "code",
   "execution_count": 30,
   "id": "86e5e5b9",
   "metadata": {},
   "outputs": [
    {
     "data": {
      "text/plain": [
       "[False, 3.6, 'Mudasar', 2, \"Nun to you that's Great\", \"It's Second Addition\"]"
      ]
     },
     "execution_count": 30,
     "metadata": {},
     "output_type": "execute_result"
    }
   ],
   "source": [
    "list1.append(\"It's Second Addition\")\n",
    "list1"
   ]
  },
  {
   "cell_type": "code",
   "execution_count": 31,
   "id": "55caf71b",
   "metadata": {},
   "outputs": [
    {
     "data": {
      "text/plain": [
       "[False, 3.6, 'Mudasar', 2, \"Nun to you that's Great\", \"It's Second Addition\"]"
      ]
     },
     "execution_count": 31,
     "metadata": {},
     "output_type": "execute_result"
    }
   ],
   "source": [
    "list1"
   ]
  },
  {
   "cell_type": "code",
   "execution_count": 32,
   "id": "44c35a28",
   "metadata": {},
   "outputs": [
    {
     "data": {
      "text/plain": [
       "[False, 3.6, 'Mudasar', 2, \"Nun to you that's Great\", \"It's Second Addition\"]"
      ]
     },
     "execution_count": 32,
     "metadata": {},
     "output_type": "execute_result"
    }
   ],
   "source": [
    "list1"
   ]
  },
  {
   "cell_type": "code",
   "execution_count": 33,
   "id": "bb8bc250",
   "metadata": {},
   "outputs": [
    {
     "data": {
      "text/plain": [
       "[False, 3.6, 'Mudasar', 2, \"Nun to you that's Great\", \"It's Second Addition\"]"
      ]
     },
     "execution_count": 33,
     "metadata": {},
     "output_type": "execute_result"
    }
   ],
   "source": [
    "list1.count(0)\n",
    "list1"
   ]
  },
  {
   "cell_type": "code",
   "execution_count": 34,
   "id": "0d8dbf84",
   "metadata": {},
   "outputs": [
    {
     "data": {
      "text/plain": [
       "1"
      ]
     },
     "execution_count": 34,
     "metadata": {},
     "output_type": "execute_result"
    }
   ],
   "source": [
    "list1.count(0)"
   ]
  },
  {
   "cell_type": "code",
   "execution_count": 35,
   "id": "37c86eb2",
   "metadata": {},
   "outputs": [
    {
     "data": {
      "text/plain": [
       "[\"It's Second Addition\", \"Nun to you that's Great\", 2, 'Mudasar', 3.6, False]"
      ]
     },
     "execution_count": 35,
     "metadata": {},
     "output_type": "execute_result"
    }
   ],
   "source": [
    "list1.reverse()\n",
    "list1"
   ]
  },
  {
   "cell_type": "code",
   "execution_count": 36,
   "id": "5ee027b6",
   "metadata": {},
   "outputs": [
    {
     "data": {
      "text/plain": [
       "0"
      ]
     },
     "execution_count": 36,
     "metadata": {},
     "output_type": "execute_result"
    }
   ],
   "source": [
    "list1.count(4)"
   ]
  },
  {
   "cell_type": "code",
   "execution_count": 37,
   "id": "93449773",
   "metadata": {},
   "outputs": [
    {
     "data": {
      "text/plain": [
       "6"
      ]
     },
     "execution_count": 37,
     "metadata": {},
     "output_type": "execute_result"
    }
   ],
   "source": [
    "len(list1)"
   ]
  },
  {
   "cell_type": "code",
   "execution_count": 38,
   "id": "bd67cecc",
   "metadata": {},
   "outputs": [
    {
     "data": {
      "text/plain": [
       "[\"It's Second Addition\", \"Nun to you that's Great\", 2, 'Mudasar', 3.6, False]"
      ]
     },
     "execution_count": 38,
     "metadata": {},
     "output_type": "execute_result"
    }
   ],
   "source": [
    "list1.count(2)\n",
    "list1"
   ]
  },
  {
   "cell_type": "code",
   "execution_count": 39,
   "id": "c28bcd8d",
   "metadata": {},
   "outputs": [
    {
     "data": {
      "text/plain": [
       "1"
      ]
     },
     "execution_count": 39,
     "metadata": {},
     "output_type": "execute_result"
    }
   ],
   "source": [
    "list1.count(2)"
   ]
  },
  {
   "cell_type": "code",
   "execution_count": 40,
   "id": "6a29b81a",
   "metadata": {},
   "outputs": [
    {
     "name": "stdout",
     "output_type": "stream",
     "text": [
      "The Count of Colour is : yellow is 2\n"
     ]
    }
   ],
   "source": [
    "list3=['red','green','yellow','pink',\"purple\",'yellow']\n",
    "color_count=list3.count(\"yellow\")\n",
    "print('The Count of Colour is : yellow is', color_count)\n"
   ]
  },
  {
   "cell_type": "code",
   "execution_count": 41,
   "id": "7c0e6e80",
   "metadata": {},
   "outputs": [
    {
     "data": {
      "text/plain": [
       "[32, 35, 65, 75, 78, 96, 45, 32, 65, 75, 47, 868, 557]"
      ]
     },
     "execution_count": 41,
     "metadata": {},
     "output_type": "execute_result"
    }
   ],
   "source": [
    "list4=[32,35,65,75,78,96,45,32,65,75,47,868,557]\n",
    "list4"
   ]
  },
  {
   "cell_type": "code",
   "execution_count": 42,
   "id": "b1a81e8b",
   "metadata": {},
   "outputs": [
    {
     "data": {
      "text/plain": [
       "13"
      ]
     },
     "execution_count": 42,
     "metadata": {},
     "output_type": "execute_result"
    }
   ],
   "source": [
    "len(list4)"
   ]
  },
  {
   "cell_type": "code",
   "execution_count": 43,
   "id": "e87c2b5c",
   "metadata": {},
   "outputs": [
    {
     "data": {
      "text/plain": [
       "[32, 32, 35, 45, 47, 65, 65, 75, 75, 78, 96, 557, 868]"
      ]
     },
     "execution_count": 43,
     "metadata": {},
     "output_type": "execute_result"
    }
   ],
   "source": [
    "list4.sort()\n",
    "list4"
   ]
  },
  {
   "cell_type": "code",
   "execution_count": 44,
   "id": "4724a8ed",
   "metadata": {},
   "outputs": [
    {
     "data": {
      "text/plain": [
       "2"
      ]
     },
     "execution_count": 44,
     "metadata": {},
     "output_type": "execute_result"
    }
   ],
   "source": [
    "list4.count(32)"
   ]
  },
  {
   "cell_type": "markdown",
   "id": "8729285e",
   "metadata": {},
   "source": [
    "---"
   ]
  },
  {
   "cell_type": "markdown",
   "id": "7c7c1def",
   "metadata": {},
   "source": [
    "## - Dictionaries\n",
    "- An unordered Collection of elements\n",
    "- Key and Value\n",
    "- Curly braces or brackets {}\n",
    "- Mutateable/Change the values"
   ]
  },
  {
   "cell_type": "code",
   "execution_count": 45,
   "id": "a1ca272f",
   "metadata": {},
   "outputs": [
    {
     "data": {
      "text/plain": [
       "{'Mangoes': 150, 'Bananas': 100, 'Burger': 90, 'Dahi bally': 50}"
      ]
     },
     "execution_count": 45,
     "metadata": {},
     "output_type": "execute_result"
    }
   ],
   "source": [
    "# Food and their Prices\n",
    "food1= {\"Mangoes\":150, \"Bananas\":100, \"Burger\":90,\"Dahi bally\":50}\n",
    "food1"
   ]
  },
  {
   "cell_type": "code",
   "execution_count": 46,
   "id": "01556545",
   "metadata": {},
   "outputs": [
    {
     "data": {
      "text/plain": [
       "dict"
      ]
     },
     "execution_count": 46,
     "metadata": {},
     "output_type": "execute_result"
    }
   ],
   "source": [
    "type(food1)"
   ]
  },
  {
   "cell_type": "code",
   "execution_count": 47,
   "id": "b3037b31",
   "metadata": {},
   "outputs": [
    {
     "data": {
      "text/plain": [
       "dict_keys(['Mangoes', 'Bananas', 'Burger', 'Dahi bally'])"
      ]
     },
     "execution_count": 47,
     "metadata": {},
     "output_type": "execute_result"
    }
   ],
   "source": [
    "# Extract data\n",
    "keys1=food1.keys()\n",
    "keys1"
   ]
  },
  {
   "cell_type": "code",
   "execution_count": 48,
   "id": "5496ce5a",
   "metadata": {},
   "outputs": [
    {
     "data": {
      "text/plain": [
       "dict_values([150, 100, 90, 50])"
      ]
     },
     "execution_count": 48,
     "metadata": {},
     "output_type": "execute_result"
    }
   ],
   "source": [
    "values1=food1.values()\n",
    "values1"
   ]
  },
  {
   "cell_type": "code",
   "execution_count": 49,
   "id": "52de4268",
   "metadata": {},
   "outputs": [
    {
     "data": {
      "text/plain": [
       "{'Mangoes': 150, 'Bananas': 100, 'Burger': 90, 'Dahi bally': 50, 'Tikki': 30}"
      ]
     },
     "execution_count": 49,
     "metadata": {},
     "output_type": "execute_result"
    }
   ],
   "source": [
    "food1[\"Tikki\"]=30\n",
    "food1\n"
   ]
  },
  {
   "cell_type": "code",
   "execution_count": 50,
   "id": "e003343c",
   "metadata": {},
   "outputs": [
    {
     "data": {
      "text/plain": [
       "{'Mangoes': 150, 'Bananas': 100, 'Burger': 90, 'Dahi bally': 50, 'Tikki': 25}"
      ]
     },
     "execution_count": 50,
     "metadata": {},
     "output_type": "execute_result"
    }
   ],
   "source": [
    "# update the values\n",
    "food1[\"Tikki\"]=25\n",
    "food1"
   ]
  },
  {
   "cell_type": "code",
   "execution_count": 51,
   "id": "f632f025",
   "metadata": {},
   "outputs": [
    {
     "data": {
      "text/plain": [
       "{'Dates': 45, 'Chocolates': 35, 'Bottels': 300}"
      ]
     },
     "execution_count": 51,
     "metadata": {},
     "output_type": "execute_result"
    }
   ],
   "source": [
    "food2={\"Dates\":45,\"Chocolates\":35,\"Bottels\":300}\n",
    "food2"
   ]
  },
  {
   "cell_type": "code",
   "execution_count": 52,
   "id": "7f51942f",
   "metadata": {},
   "outputs": [
    {
     "data": {
      "text/plain": [
       "{'Mangoes': 150,\n",
       " 'Bananas': 100,\n",
       " 'Burger': 90,\n",
       " 'Dahi bally': 50,\n",
       " 'Tikki': 25,\n",
       " 'Dates': 45,\n",
       " 'Chocolates': 35,\n",
       " 'Bottels': 300}"
      ]
     },
     "execution_count": 52,
     "metadata": {},
     "output_type": "execute_result"
    }
   ],
   "source": [
    "# Concatinate the Dictionary\n",
    "food1.update(food2)\n",
    "food1"
   ]
  },
  {
   "cell_type": "markdown",
   "id": "4459569b",
   "metadata": {},
   "source": [
    "## 4- Set\n",
    "- Unordered and Unindexed\n",
    "- Curly Braces are Used\n",
    "- No Duplication Allowed"
   ]
  },
  {
   "cell_type": "code",
   "execution_count": 53,
   "id": "a1580ebe",
   "metadata": {},
   "outputs": [
    {
     "data": {
      "text/plain": [
       "{2,\n",
       " 4.5,\n",
       " 4.6,\n",
       " 'Mudasar',\n",
       " True,\n",
       " 'lahore',\n",
       " 'learning in Codanics with baba Aammar'}"
      ]
     },
     "execution_count": 53,
     "metadata": {},
     "output_type": "execute_result"
    }
   ],
   "source": [
    "s1= {2,4.5,4.6,\"Mudasar\", \"learning in Codanics with baba Aammar\", \"lahore\", True}\n",
    "s1"
   ]
  },
  {
   "cell_type": "code",
   "execution_count": 54,
   "id": "a338c639",
   "metadata": {},
   "outputs": [
    {
     "data": {
      "text/plain": [
       "set"
      ]
     },
     "execution_count": 54,
     "metadata": {},
     "output_type": "execute_result"
    }
   ],
   "source": [
    "type(s1)"
   ]
  },
  {
   "cell_type": "code",
   "execution_count": 55,
   "id": "ef068dfc",
   "metadata": {},
   "outputs": [
    {
     "data": {
      "text/plain": [
       "{2,\n",
       " 4.5,\n",
       " 4.6,\n",
       " 'Mudasar',\n",
       " True,\n",
       " 'lahore',\n",
       " 'learning in Codanics with baba Aammar'}"
      ]
     },
     "execution_count": 55,
     "metadata": {},
     "output_type": "execute_result"
    }
   ],
   "source": [
    "s1.add(\"Mudasar\")\n",
    "s1"
   ]
  },
  {
   "cell_type": "code",
   "execution_count": 56,
   "id": "eab2b576",
   "metadata": {},
   "outputs": [
    {
     "data": {
      "text/plain": [
       "{2,\n",
       " 4.5,\n",
       " 4.6,\n",
       " 'Lahore',\n",
       " 'Mudasar',\n",
       " True,\n",
       " 'lahore',\n",
       " 'learning in Codanics with baba Aammar'}"
      ]
     },
     "execution_count": 56,
     "metadata": {},
     "output_type": "execute_result"
    }
   ],
   "source": [
    "s1.add(\"Lahore\")\n",
    "s1"
   ]
  },
  {
   "cell_type": "code",
   "execution_count": 57,
   "id": "a2639d8d",
   "metadata": {},
   "outputs": [
    {
     "data": {
      "text/plain": [
       "{2,\n",
       " 4.5,\n",
       " 4.6,\n",
       " 'Lahore',\n",
       " 'Mudasar',\n",
       " True,\n",
       " 'learning in Codanics with baba Aammar'}"
      ]
     },
     "execution_count": 57,
     "metadata": {},
     "output_type": "execute_result"
    }
   ],
   "source": [
    "s1.remove(\"lahore\")\n",
    "s1"
   ]
  },
  {
   "cell_type": "code",
   "execution_count": null,
   "id": "9711af88",
   "metadata": {},
   "outputs": [],
   "source": []
  }
 ],
 "metadata": {
  "kernelspec": {
   "display_name": "Python 3 (ipykernel)",
   "language": "python",
   "name": "python3"
  },
  "language_info": {
   "codemirror_mode": {
    "name": "ipython",
    "version": 3
   },
   "file_extension": ".py",
   "mimetype": "text/x-python",
   "name": "python",
   "nbconvert_exporter": "python",
   "pygments_lexer": "ipython3",
   "version": "3.9.12"
  }
 },
 "nbformat": 4,
 "nbformat_minor": 5
}

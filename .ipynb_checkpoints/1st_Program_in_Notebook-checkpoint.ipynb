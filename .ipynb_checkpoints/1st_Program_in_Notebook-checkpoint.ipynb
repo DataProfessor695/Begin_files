{
 "cells": [
  {
   "cell_type": "markdown",
   "id": "e13e7bf2",
   "metadata": {},
   "source": [
    "# This is First Python Program Assignment\n"
   ]
  },
  {
   "cell_type": "markdown",
   "id": "7cc4743a",
   "metadata": {},
   "source": [
    "*##01_Program##*"
   ]
  },
  {
   "cell_type": "code",
   "execution_count": 1,
   "id": "59aa82e3",
   "metadata": {},
   "outputs": [
    {
     "name": "stdout",
     "output_type": "stream",
     "text": [
      "Salam Mudasar\n",
      "12\n",
      "we are learning python\n"
     ]
    }
   ],
   "source": [
    "print(\"Salam Mudasar\")\n",
    "print(24//2)\n",
    "print('''we are learning python''')"
   ]
  },
  {
   "cell_type": "markdown",
   "id": "c29e5351",
   "metadata": {},
   "source": [
    "**###02_Operators###**"
   ]
  },
  {
   "cell_type": "code",
   "execution_count": 2,
   "id": "8d3a24ab",
   "metadata": {},
   "outputs": [
    {
     "name": "stdout",
     "output_type": "stream",
     "text": [
      "5\n",
      "12\n",
      "5.0\n",
      "1\n",
      "0\n",
      "5\n",
      "8\n",
      "9.666666666666666\n"
     ]
    }
   ],
   "source": [
    "print(2+3)\n",
    "print(3*4)\n",
    "print(15/3)\n",
    "print(3-2)\n",
    "print(100%5)\n",
    "print(15//3)\n",
    "print(2**3)\n",
    "print(4**3/6+4//14*2-1)\n",
    "\n",
    "# PEMDAS\n",
    "# Parenthesis Exponents Multiplications Divide Addition Substracts\n",
    "# Left to Right Sequence for M D & A S"
   ]
  },
  {
   "cell_type": "markdown",
   "id": "4cce9e71",
   "metadata": {},
   "source": [
    "**###03_String###**"
   ]
  },
  {
   "cell_type": "code",
   "execution_count": 3,
   "id": "d8e6c622",
   "metadata": {},
   "outputs": [
    {
     "name": "stdout",
     "output_type": "stream",
     "text": [
      "Salam Mudasar\n",
      "Test for single quote\n",
      "test for double quote\n",
      "test for triple quotes\n",
      "what's up\n"
     ]
    }
   ],
   "source": [
    "print(\"Salam Mudasar\")\n",
    "# print(24//2)\n",
    "# print( '''we are learning python''')\n",
    "print('Test for single quote')\n",
    "print(\"test for double quote\")\n",
    "print('''test for triple quotes''')\n",
    "print(\"what's up\")\n",
    "# Strings_clear"
   ]
  },
  {
   "cell_type": "markdown",
   "id": "a5498afd",
   "metadata": {},
   "source": [
    "**### 04_Comments###**"
   ]
  },
  {
   "cell_type": "code",
   "execution_count": 4,
   "id": "7aa99769",
   "metadata": {},
   "outputs": [
    {
     "name": "stdout",
     "output_type": "stream",
     "text": [
      "how are you\n",
      "we are learning python with Aammar BaBa\n",
      "5\n"
     ]
    }
   ],
   "source": [
    "print('how are you') # press these to comment out (ctrl+/)\n",
    "print(\"we are learning python with Aammar BaBa\") #print String\n",
    "print(2+3) # print operators function with numbers"
   ]
  },
  {
   "cell_type": "markdown",
   "id": "1288484f",
   "metadata": {},
   "source": [
    "**###05_Variables###**"
   ]
  },
  {
   "cell_type": "code",
   "execution_count": 5,
   "id": "37f2c6b2",
   "metadata": {},
   "outputs": [
    {
     "name": "stdout",
     "output_type": "stream",
     "text": [
      "<class 'str'>\n",
      "<class 'int'>\n",
      "Mangoes , Oranges\n",
      "<class 'str'>\n"
     ]
    }
   ],
   "source": [
    "# variables object containing specific value\n",
    "# x = 4 # numeric or integer variable\n",
    "# print(x)\n",
    "# # o=\"My name is Muhammad Mudasar\" # String Variable\n",
    "# # print (o)\n",
    "# # print(type(o))\n",
    "# print(x+14)\n",
    "# Types/Class of Variables\n",
    "u= \"It's ok\"\n",
    "print(type(u))\n",
    "t= 4\n",
    "print(type(t))\n",
    "# Print_type_class\n",
    "\n",
    "# Rules to Assign a Variable\n",
    "# 1- The Variable should contain letters, numbers or underscores\n",
    "# 2- Do not Start with numbers \n",
    "# 3- Spaces are not Allowed\n",
    "# 4- Do not use keywords used in functions (break, mean, media, test etc..)\n",
    "# 5- Short and Descriptive\n",
    "# 6- Case Senstivity (lowercare, uppercase letters, lower case letters should be used)\n",
    "\n",
    "Fruit_basket = \"Mangoes , Oranges\"\n",
    "print(Fruit_basket)\n",
    "\n",
    "# Fruit_basket = \"Apples\", \"Banana\"\n",
    "# print(Fruit_basket)\n",
    "# del Fruit_basket\n",
    "# print(Fruit_basket)\n",
    "print(type(Fruit_basket))\n"
   ]
  },
  {
   "cell_type": "markdown",
   "id": "1bf1a9a8",
   "metadata": {},
   "source": [
    "**###05_ Input_Variables###** "
   ]
  },
  {
   "cell_type": "code",
   "execution_count": 6,
   "id": "a5ac839e",
   "metadata": {},
   "outputs": [
    {
     "name": "stdout",
     "output_type": "stream",
     "text": [
      "what is your name? Mudasar\n",
      "how old are you? 21\n",
      "Salam..! Mudasar , you are a still young\n"
     ]
    }
   ],
   "source": [
    "# Fruit_basket = \"Mangoes\"\n",
    "\n",
    "# print(Fruit_basket)\n",
    "# Input Function\n",
    "#Fruit_basket=input(\"what is your favourite fruit? \")\n",
    "#print(Fruit_basket)\n",
    "# Input function of 2nd Stage\n",
    "#name= input(\"what is your name? \")\n",
    "#greeting = \"Salam..!\"\n",
    "#print(greeting, name)\n",
    " \n",
    "# another way of stage 2 input function\n",
    "#name = input(\"what is your name? \")\n",
    "#print(\"Salam..!\", name)\n",
    "# 3rd Stage input function\n",
    "name= input(\"what is your name? \")\n",
    "age= input(\"how old are you? \")\n",
    "greeting= \"Salam..!\"\n",
    "print( greeting, name,  \", you are a still young\")\n",
    "# input_Aammar_you are a still young"
   ]
  },
  {
   "cell_type": "markdown",
   "id": "0ccbccbb",
   "metadata": {},
   "source": [
    "**###07_Conditional_Logics###**"
   ]
  },
  {
   "cell_type": "code",
   "execution_count": 7,
   "id": "39132868",
   "metadata": {},
   "outputs": [
    {
     "name": "stdout",
     "output_type": "stream",
     "text": [
      "what is your name? Mudasar\n",
      "how old are you? 21\n",
      "Salam..! Mudasar <class 'int'> False\n"
     ]
    }
   ],
   "source": [
    "# logical operator are either \"true or false\" or \"yes or no\" or \"0 or 1\"\n",
    "# Equal to                      ==\n",
    "# Not Equal to                  !=\n",
    "# less than                     < \n",
    "# greater than                  >\n",
    "# less than and equal to        <=\n",
    "# greater than and equal to     >=\n",
    "\n",
    "# is 3 equal to 3\n",
    "# print (3==3)\n",
    "# application of logical operators\n",
    "# Mudasar_age=21\n",
    "# age_at_school=25\n",
    "# print(Mudasar_age==age_at_school)\n",
    "\n",
    "# Input Function and logical Operator\n",
    "age_at_school=25\n",
    "name=input(\"what is your name? \") #input fuction\n",
    "greeting=\"Salam..!\"\n",
    "age=input(\"how old are you? \")\n",
    "age=int(age)\n",
    "\n",
    "print(greeting, name, type(age), age_at_school==age) #logical operator"
   ]
  },
  {
   "cell_type": "markdown",
   "id": "99ea2ee7",
   "metadata": {},
   "source": [
    "**###08_Type_Conversion###**"
   ]
  },
  {
   "cell_type": "code",
   "execution_count": 8,
   "id": "4f92e643",
   "metadata": {},
   "outputs": [
    {
     "name": "stdout",
     "output_type": "stream",
     "text": [
      "What is your age? 21\n",
      "21 <class 'int'>\n"
     ]
    }
   ],
   "source": [
    "# a=3            #Integer\n",
    "# b=5.4          #Float\n",
    "# h= \"Salam..!\"  #String\n",
    "\n",
    "# # Implicit type Conversion\n",
    "# a=a+b\n",
    "# print( a, \"type of a is:\", type(a))\n",
    "\n",
    "# Explicit type Conversion\n",
    "age=input(\"What is your age? \")\n",
    "# age=int(age)\n",
    "print(age , type(int(age)))"
   ]
  },
  {
   "cell_type": "markdown",
   "id": "a17eb90c",
   "metadata": {},
   "source": [
    "**###09_If_else_elif###**"
   ]
  },
  {
   "cell_type": "code",
   "execution_count": 14,
   "id": "1e47bf94",
   "metadata": {},
   "outputs": [
    {
     "name": "stdout",
     "output_type": "stream",
     "text": [
      "What is your name? Khalil\n",
      "what is your age? 2\n",
      "Salam..! Khalil You are eligible for kindagarden\n",
      "you can't go to School..! Because You are A Still Baby. Take Care\n"
     ]
    }
   ],
   "source": [
    "age_at_school = 7\n",
    "name=input(\"What is your name? \")\n",
    "age=input(\"what is your age? \")\n",
    "age=int(age)\n",
    "greeting=\"Salam..!\"\n",
    "if age_at_school>age : print ( greeting, name,  \"You are eligible for kindagarden\")\n",
    "elif age_at_school<=age : print(greeting, name,\"You are eligible for Primary School..!\")\n",
    "if age==2 : print(\"you can't go to School..! Because You are A Still Baby. Take Care\")\n",
    "# else : print(\"You can't go to School\")\n",
    "\n",
    "# If, else & elif statement are clear"
   ]
  },
  {
   "cell_type": "markdown",
   "id": "cb7601fa",
   "metadata": {},
   "source": [
    "**###10_Function###**"
   ]
  },
  {
   "cell_type": "code",
   "execution_count": 10,
   "id": "1f3c8cc7",
   "metadata": {},
   "outputs": [
    {
     "name": "stdout",
     "output_type": "stream",
     "text": [
      "28\n"
     ]
    }
   ],
   "source": [
    "# print(\"we are learning python with Aammar\")\n",
    "# print(\"we are learning python with Aammar\")\n",
    "# print(\"we are learning python with Aammar\")\n",
    "# print(\"we are learning python with Aammar\")\n",
    "# print(\"we are learning python with Aammar\")\n",
    "# print(\"we are learning python with Aammar\")\n",
    "\n",
    "# Defining a function\n",
    "# 1\n",
    "# def print_python():\n",
    "#     print(\"we are learning python with Aammar\")\n",
    "#     print(\"we are learning python with Aammar\")\n",
    "#     print(\"we are learning python with Aammar\")\n",
    "   \n",
    "# print_python()\n",
    "# 2\n",
    "# def print_python():\n",
    "#     text = \"we are learning python with Aammar in Codanics Youtube Channel\"\n",
    "#     print(text)\n",
    "#     print(text)\n",
    "#     print(text) \n",
    "\n",
    "# print_python()\n",
    "# 3\n",
    "# def print_python(text):\n",
    "#     print(text)\n",
    "#     print(text)\n",
    "#     print(text) \n",
    "\n",
    "# print_python(\"we are learning python with Aammar in Codanics Youtube Channel\")\n",
    "\n",
    "# Defining a function with if, elif and else Statements\n",
    "\n",
    "# def School_Calculator(age):\n",
    "#     # name=input(\"What is your Name? \")\n",
    "#     # age=input(\"What is your age? \")\n",
    "#     if age==5 : \n",
    "#         print(\"Salam..!\" ,  \"Hurry up, Join the School.\")\n",
    "#     elif age>5:\n",
    "#         print(\"Salam..!\",  \"Join the Primary School.\")   \n",
    "#     else :\n",
    "#         print(\"Salam..!\", \"You are not eligible for School at this Time.\")   \n",
    "\n",
    "# School_Calculator(3) \n",
    "\n",
    "# Defining a function of future\n",
    "def future_age(age):\n",
    "    new_age=age+4\n",
    "    return new_age\n",
    "    print(new_age)\n",
    "\n",
    "future_predicted_age=future_age(24)\n",
    "print(future_predicted_age)\n",
    "\n",
    "# I understand function not really well\n"
   ]
  },
  {
   "cell_type": "markdown",
   "id": "744f1e35",
   "metadata": {},
   "source": [
    "**###11_Loops###**"
   ]
  },
  {
   "cell_type": "code",
   "execution_count": 11,
   "id": "248a0802",
   "metadata": {},
   "outputs": [
    {
     "name": "stdout",
     "output_type": "stream",
     "text": [
      "Mon\n",
      "Tue\n",
      "Wed\n",
      "Thurs\n"
     ]
    }
   ],
   "source": [
    "# While and for loops\n",
    "# while loops\n",
    "\n",
    "# a=0\n",
    "# while (a<5):\n",
    "#     print(a)\n",
    "#     a=a+1\n",
    "\n",
    "# For Loops\n",
    "# for a in range(4,11) :\n",
    "  #   print(a)\n",
    "\n",
    "# Array\n",
    "days = [\"Mon\",\"Tue\",\"Wed\",\"Thurs\",\"Fri\",\"Sat\",\"Sun\"] \n",
    "for d in days:\n",
    "    # if (d==\"Fri\"): continue # Skips d\n",
    "    if (d==\"Fri\"): break # Loop Stops\n",
    "    print(d)"
   ]
  },
  {
   "cell_type": "markdown",
   "id": "c3547189",
   "metadata": {},
   "source": [
    "**###12_Import_Libraries###**"
   ]
  },
  {
   "cell_type": "code",
   "execution_count": 12,
   "id": "4910bee8",
   "metadata": {},
   "outputs": [
    {
     "name": "stdout",
     "output_type": "stream",
     "text": [
      "The value of pi is = 3.141592653589793\n",
      "600\n"
     ]
    }
   ],
   "source": [
    "# if you want to print the value of pi\n",
    "import math\n",
    "print(\"The value of pi is =\", math.pi)\n",
    "import statistics\n",
    "a= [450,550,650,750]\n",
    "print(statistics.mean(a))\n",
    "\n",
    "# Numpy, pandas"
   ]
  },
  {
   "cell_type": "markdown",
   "id": "b2f96832",
   "metadata": {},
   "source": [
    "**###13_Trouble_Shooting###**"
   ]
  },
  {
   "cell_type": "code",
   "execution_count": 13,
   "id": "87865c41",
   "metadata": {},
   "outputs": [
    {
     "name": "stdout",
     "output_type": "stream",
     "text": [
      "Salam..! name\n"
     ]
    }
   ],
   "source": [
    "# print(\"we are learning python with Aammar baba) # Syntax Error\n",
    "# Syntax Error mean = Ap Python ki language me bat kren. Shukriya\n",
    "# print(34/0) # Runtime Error\n",
    "# Runtime Error 2nd name is shown in terminal is division by zero\n",
    "\n",
    "name=\"Mudasar\"\n",
    "print(\"Salam..! name\") # This Error Mean is Make Mistake by Human\n",
    "\n",
    "# Trouble Shoot is Easy"
   ]
  },
  {
   "cell_type": "code",
   "execution_count": null,
   "id": "4f375c08",
   "metadata": {},
   "outputs": [],
   "source": []
  }
 ],
 "metadata": {
  "kernelspec": {
   "display_name": "Python 3 (ipykernel)",
   "language": "python",
   "name": "python3"
  },
  "language_info": {
   "codemirror_mode": {
    "name": "ipython",
    "version": 3
   },
   "file_extension": ".py",
   "mimetype": "text/x-python",
   "name": "python",
   "nbconvert_exporter": "python",
   "pygments_lexer": "ipython3",
   "version": "3.9.12"
  }
 },
 "nbformat": 4,
 "nbformat_minor": 5
}

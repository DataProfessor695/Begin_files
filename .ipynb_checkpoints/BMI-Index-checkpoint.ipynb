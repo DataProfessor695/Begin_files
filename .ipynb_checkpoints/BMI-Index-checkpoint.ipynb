{
 "cells": [
  {
   "cell_type": "code",
   "execution_count": 1,
   "id": "100cb7d3",
   "metadata": {},
   "outputs": [],
   "source": [
    "# Body Mass Index (BMI)\n",
    "# Input weight \n",
    "# Height\n",
    "# OMI (Ask yourself for hieght)\n",
    "# Weight\n",
    "# CalCulator BMI\n",
    "# Print BMI (My name is..., and My BMI is ....)"
   ]
  },
  {
   "cell_type": "code",
   "execution_count": 2,
   "id": "15b85668",
   "metadata": {},
   "outputs": [
    {
     "name": "stdout",
     "output_type": "stream",
     "text": [
      "What is your height? 2.2\n"
     ]
    }
   ],
   "source": [
    "# weight in kg/height in m and its square\n",
    "height=input(\"What is your height? \")\n",
    "height=float(height)"
   ]
  },
  {
   "cell_type": "code",
   "execution_count": 3,
   "id": "2ffcfb52",
   "metadata": {},
   "outputs": [
    {
     "name": "stdout",
     "output_type": "stream",
     "text": [
      "What is your weight? 65\n"
     ]
    }
   ],
   "source": [
    "weight=input(\"What is your weight? \")\n",
    "weight=int(weight)"
   ]
  },
  {
   "cell_type": "code",
   "execution_count": 4,
   "id": "fd038e53",
   "metadata": {},
   "outputs": [
    {
     "name": "stdout",
     "output_type": "stream",
     "text": [
      "What is your name? Mudasar\n"
     ]
    }
   ],
   "source": [
    "name=input(\"What is your name? \")"
   ]
  },
  {
   "cell_type": "code",
   "execution_count": 5,
   "id": "e9681f1f",
   "metadata": {},
   "outputs": [
    {
     "data": {
      "text/plain": [
       "13.4297520661157"
      ]
     },
     "execution_count": 5,
     "metadata": {},
     "output_type": "execute_result"
    }
   ],
   "source": [
    "BMI= weight/height**2\n",
    "BMI"
   ]
  },
  {
   "cell_type": "code",
   "execution_count": 6,
   "id": "d3046095",
   "metadata": {},
   "outputs": [
    {
     "name": "stdout",
     "output_type": "stream",
     "text": [
      "Salam..! Mudasar Your BMI is  13.4297520661157\n"
     ]
    }
   ],
   "source": [
    "print(\"Salam..!\", name, \"Your BMI is \", BMI)"
   ]
  }
 ],
 "metadata": {
  "kernelspec": {
   "display_name": "Python 3 (ipykernel)",
   "language": "python",
   "name": "python3"
  },
  "language_info": {
   "codemirror_mode": {
    "name": "ipython",
    "version": 3
   },
   "file_extension": ".py",
   "mimetype": "text/x-python",
   "name": "python",
   "nbconvert_exporter": "python",
   "pygments_lexer": "ipython3",
   "version": "3.9.12"
  }
 },
 "nbformat": 4,
 "nbformat_minor": 5
}

{
 "cells": [
  {
   "cell_type": "markdown",
   "id": "1deed160",
   "metadata": {},
   "source": [
    "## - Indexing"
   ]
  },
  {
   "cell_type": "code",
   "execution_count": 1,
   "id": "a163de3e",
   "metadata": {},
   "outputs": [
    {
     "data": {
      "text/plain": [
       "'Samosa Pakora'"
      ]
     },
     "execution_count": 1,
     "metadata": {},
     "output_type": "execute_result"
    }
   ],
   "source": [
    "# Make a String\n",
    "a = \"Samosa Pakora\"\n",
    "a"
   ]
  },
  {
   "cell_type": "code",
   "execution_count": 2,
   "id": "55be1a78",
   "metadata": {},
   "outputs": [
    {
     "data": {
      "text/plain": [
       "'Samosa Pakora'"
      ]
     },
     "execution_count": 2,
     "metadata": {},
     "output_type": "execute_result"
    }
   ],
   "source": [
    "a"
   ]
  },
  {
   "cell_type": "code",
   "execution_count": 3,
   "id": "59a26eec",
   "metadata": {},
   "outputs": [
    {
     "data": {
      "text/plain": [
       "13"
      ]
     },
     "execution_count": 3,
     "metadata": {},
     "output_type": "execute_result"
    }
   ],
   "source": [
    "# Lenght of Indexes\n",
    "len(a)"
   ]
  },
  {
   "cell_type": "code",
   "execution_count": 4,
   "id": "65fd7d0d",
   "metadata": {},
   "outputs": [
    {
     "data": {
      "text/plain": [
       "'S'"
      ]
     },
     "execution_count": 4,
     "metadata": {},
     "output_type": "execute_result"
    }
   ],
   "source": [
    "a[0]"
   ]
  },
  {
   "cell_type": "code",
   "execution_count": 5,
   "id": "41d91851",
   "metadata": {},
   "outputs": [
    {
     "data": {
      "text/plain": [
       "'m'"
      ]
     },
     "execution_count": 5,
     "metadata": {},
     "output_type": "execute_result"
    }
   ],
   "source": [
    "a[2]"
   ]
  },
  {
   "cell_type": "code",
   "execution_count": 6,
   "id": "d75d8ee5",
   "metadata": {},
   "outputs": [
    {
     "data": {
      "text/plain": [
       "'a'"
      ]
     },
     "execution_count": 6,
     "metadata": {},
     "output_type": "execute_result"
    }
   ],
   "source": [
    "a[12]"
   ]
  },
  {
   "cell_type": "code",
   "execution_count": 7,
   "id": "18f1170e",
   "metadata": {},
   "outputs": [
    {
     "data": {
      "text/plain": [
       "'Samos'"
      ]
     },
     "execution_count": 7,
     "metadata": {},
     "output_type": "execute_result"
    }
   ],
   "source": [
    "a[0:5]"
   ]
  },
  {
   "cell_type": "code",
   "execution_count": 8,
   "id": "94efae11",
   "metadata": {},
   "outputs": [
    {
     "data": {
      "text/plain": [
       "'Samosa'"
      ]
     },
     "execution_count": 8,
     "metadata": {},
     "output_type": "execute_result"
    }
   ],
   "source": [
    "# last index is exclusive\n",
    "a[0:6]"
   ]
  },
  {
   "cell_type": "code",
   "execution_count": 10,
   "id": "d5433e29",
   "metadata": {},
   "outputs": [
    {
     "data": {
      "text/plain": [
       "'Samosa Pakora'"
      ]
     },
     "execution_count": 10,
     "metadata": {},
     "output_type": "execute_result"
    }
   ],
   "source": [
    "a[0:13]"
   ]
  },
  {
   "cell_type": "code",
   "execution_count": 11,
   "id": "4f37e1ab",
   "metadata": {},
   "outputs": [
    {
     "data": {
      "text/plain": [
       "'r'"
      ]
     },
     "execution_count": 11,
     "metadata": {},
     "output_type": "execute_result"
    }
   ],
   "source": [
    "a[-2]"
   ]
  },
  {
   "cell_type": "code",
   "execution_count": 12,
   "id": "9d9fa4ff",
   "metadata": {},
   "outputs": [
    {
     "data": {
      "text/plain": [
       "'Pakor'"
      ]
     },
     "execution_count": 12,
     "metadata": {},
     "output_type": "execute_result"
    }
   ],
   "source": [
    "a[-6:-1]"
   ]
  },
  {
   "cell_type": "code",
   "execution_count": 13,
   "id": "8ab910c4",
   "metadata": {},
   "outputs": [
    {
     "data": {
      "text/plain": [
       "'Pakora'"
      ]
     },
     "execution_count": 13,
     "metadata": {},
     "output_type": "execute_result"
    }
   ],
   "source": [
    "a[-6:13]"
   ]
  },
  {
   "cell_type": "code",
   "execution_count": 14,
   "id": "e08cb1d2",
   "metadata": {},
   "outputs": [
    {
     "data": {
      "text/plain": [
       "'Pulao'"
      ]
     },
     "execution_count": 14,
     "metadata": {},
     "output_type": "execute_result"
    }
   ],
   "source": [
    "food=\"Pulao\"\n",
    "food"
   ]
  },
  {
   "cell_type": "markdown",
   "id": "cfb6cfb0",
   "metadata": {},
   "source": [
    "## String Method"
   ]
  },
  {
   "cell_type": "code",
   "execution_count": 15,
   "id": "dc4be0d6",
   "metadata": {},
   "outputs": [
    {
     "data": {
      "text/plain": [
       "'Pulao'"
      ]
     },
     "execution_count": 15,
     "metadata": {},
     "output_type": "execute_result"
    }
   ],
   "source": [
    "food"
   ]
  },
  {
   "cell_type": "code",
   "execution_count": 16,
   "id": "d1b5abca",
   "metadata": {},
   "outputs": [
    {
     "data": {
      "text/plain": [
       "5"
      ]
     },
     "execution_count": 16,
     "metadata": {},
     "output_type": "execute_result"
    }
   ],
   "source": [
    "len(food)"
   ]
  },
  {
   "cell_type": "code",
   "execution_count": 17,
   "id": "45f79f85",
   "metadata": {},
   "outputs": [
    {
     "data": {
      "text/plain": [
       "'Pulao'"
      ]
     },
     "execution_count": 17,
     "metadata": {},
     "output_type": "execute_result"
    }
   ],
   "source": [
    "food.capitalize()"
   ]
  },
  {
   "cell_type": "code",
   "execution_count": 18,
   "id": "ae8150e7",
   "metadata": {},
   "outputs": [
    {
     "data": {
      "text/plain": [
       "'PULAO'"
      ]
     },
     "execution_count": 18,
     "metadata": {},
     "output_type": "execute_result"
    }
   ],
   "source": [
    "food.upper()"
   ]
  },
  {
   "cell_type": "code",
   "execution_count": 19,
   "id": "9ea2f4dc",
   "metadata": {},
   "outputs": [
    {
     "data": {
      "text/plain": [
       "'pulao'"
      ]
     },
     "execution_count": 19,
     "metadata": {},
     "output_type": "execute_result"
    }
   ],
   "source": [
    "food.lower()"
   ]
  },
  {
   "cell_type": "code",
   "execution_count": null,
   "id": "38e14a16",
   "metadata": {},
   "outputs": [],
   "source": []
  }
 ],
 "metadata": {
  "kernelspec": {
   "display_name": "Python 3 (ipykernel)",
   "language": "python",
   "name": "python3"
  },
  "language_info": {
   "codemirror_mode": {
    "name": "ipython",
    "version": 3
   },
   "file_extension": ".py",
   "mimetype": "text/x-python",
   "name": "python",
   "nbconvert_exporter": "python",
   "pygments_lexer": "ipython3",
   "version": "3.9.12"
  }
 },
 "nbformat": 4,
 "nbformat_minor": 5
}
